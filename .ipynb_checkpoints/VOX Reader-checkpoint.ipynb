{
 "cells": [
  {
   "cell_type": "code",
   "execution_count": 11,
   "metadata": {},
   "outputs": [],
   "source": [
    "import math\n",
    "import random\n",
    "\n",
    "# this methode finds the indices for all occurencys of target in data \n",
    "def findAll(data: bytes, target: int) -> list:\n",
    "    result = []\n",
    "    last_index = 0\n",
    "    while last_index != -1:\n",
    "        i = data[last_index:].find(target)\n",
    "        if(i < 0):\n",
    "            return result\n",
    "        else:\n",
    "            result += [last_index+i]\n",
    "            last_index = last_index+i+1\n",
    "            \n",
    "# this methode finds the indices for all occurencys of a word in data \n",
    "def findKeyword(data, word):\n",
    "    word_array = word.encode('ascii')\n",
    "    result = []\n",
    "    possible_indices = findAll(data, word_array[0])\n",
    "    for p in possible_indices:\n",
    "        same = True\n",
    "        for i in range(1, len(word)):\n",
    "            if(data[p+i] != word_array[i]):\n",
    "                same = False\n",
    "        if(same):\n",
    "            result += [p]\n",
    "    return result\n",
    "\n",
    "def distance(a, b):\n",
    "    return math.sqrt(pow(a[0]-b[0],2)+pow(a[1]-b[1],2)+pow(a[2]-b[2],2))"
   ]
  },
  {
   "cell_type": "code",
   "execution_count": 12,
   "metadata": {},
   "outputs": [],
   "source": [
    "def manipulateVoxel(voxel):\n",
    "    centers = [[random.randrange(0,21),random.randrange(0,21),random.randrange(0,21),7+i] for i in range(0,100)]\n",
    "    cluster = [[] for i in range(0,len(centers))]\n",
    "    for v in voxel:\n",
    "        center_id = 0\n",
    "        col = 80\n",
    "        dist = 1000000;\n",
    "        for i in range(0,len(centers)):\n",
    "            d = distance(centers[i][0:3],v[0:3])\n",
    "            if(d<dist):\n",
    "                dist = d\n",
    "                col = centers[i][3]\n",
    "            v[3] = col\n",
    "            cluster[i] += [v]\n",
    "    return cluster # not really necessary"
   ]
  },
  {
   "cell_type": "code",
   "execution_count": 14,
   "metadata": {},
   "outputs": [],
   "source": [
    "def load(name: str) -> bytes:\n",
    "    binary_file = open(name, 'rb')\n",
    "    data = binary_file.read()\n",
    "    binary_file.close()\n",
    "    return data\n",
    "\n",
    "def save(name: str):\n",
    "    f = open(name, 'wb+')\n",
    "    f.write(result)\n",
    "    f.close()  "
   ]
  },
  {
   "cell_type": "code",
   "execution_count": 49,
   "metadata": {},
   "outputs": [
    {
     "data": {
      "text/plain": [
       "bytearray(b'SIZE\\x0c\\x00\\x00\\x00\\x00\\x00\\x00\\x00\\x04\\x00\\x00\\x00\\x04\\x00\\x00\\x00\\x04\\x00\\x00\\x00XYZI\\x14\\x00\\x00\\x00\\x00\\x00\\x00\\x00\\x04\\x00\\x00\\x00\\x01\\x01\\x01\\x01\\x02\\x02\\x02\\x02\\x03\\x03\\x03\\x03\\x04\\x04\\x04\\x04')"
      ]
     },
     "execution_count": 49,
     "metadata": {},
     "output_type": "execute_result"
    }
   ],
   "source": [
    "#SIZE\\0c 00 00 00 \\ 00 00 00 00 \\ 03 00 00 00 \\ 03 00 00 00 \\ 03 00 00 00 \\ XYZI \\54 00 00 00 \\ 00 00 00 00 \\ 14 00 00 00'\\\n",
    "# id                                 size x       size y         size z      id                                 # voxel   \n",
    "\n",
    "# |SIZE|#bytes|#children|size x|size y|size z|XYZI|#bytes|#childeren|#voxel n|[x y z c]|...|[x y z c]|\n",
    "# ^start_id                                  ^xyz_id                         ^vox_id    ^[x y z c]*n ^end_id\n",
    "\n",
    "def toBytes(a: int) -> bytes:\n",
    "    return a.to_bytes(4, byteorder=\"little\")\n",
    "\n",
    "# takes data in for [[a_1,a_2,...],[b_1,b_2,...],...] and turns it into a byte array (a_n,b_n,... <256)\n",
    "def toBytearray(data) -> bytes:\n",
    "    byte = bytearray()\n",
    "    for d in data:\n",
    "        for i in d:\n",
    "            byte += (i).to_bytes(1, byteorder=\"little\")\n",
    "    return byte\n",
    "\n",
    "def sizeChunk(x: int, y: int, z: int) -> bytes:\n",
    "    result = bytearray()\n",
    "    result.extend(map(ord, \"SIZE\"))\n",
    "    result += toBytes(12) + toBytes(0) + toBytes(x) + toBytes(y) + toBytes(z)\n",
    "    \n",
    "    return result\n",
    "\n",
    "def xyziChunk(voxel) -> bytes:\n",
    "    n = len(voxel)\n",
    "    result = bytearray()\n",
    "    result.extend(map(ord, \"XYZI\"))\n",
    "    result += toBytes(4+n*4) + toBytes(0) + toBytes(n) + toBytearray(voxel)\n",
    "    \n",
    "    return result\n",
    "\n",
    "def maxDimensions(voxel):\n",
    "    result = [0,0,0]\n",
    "    for v in voxel:\n",
    "        for i in range(0, len(result)):\n",
    "            result[i] = max(result[i], v[i])\n",
    "            \n",
    "    return result\n",
    "\n",
    "def modelData(voxel) -> bytes:\n",
    "    result = bytearray()\n",
    "    dimensions = maxDimensions(voxel)\n",
    "    result += sizeChunk(dimensions[0],dimensions[1],dimensions[2])\n",
    "    result += xyziChunk(voxel)\n",
    "    return result\n",
    "\n",
    "modelData([[1,1,1,1],[2,2,2,2],[3,3,3,3],[4,4,4,4]])"
   ]
  },
  {
   "cell_type": "code",
   "execution_count": 19,
   "metadata": {},
   "outputs": [],
   "source": [
    "\n",
    "def workOnModel(data, start_id):\n",
    "    #calculate section start ids and length\n",
    "    xyz_id = start_id+24\n",
    "    vox_id = xyz_id+16\n",
    "    n = int.from_bytes(data[xyz_id+12:vox_id], byteorder = \"little\")\n",
    "    end_id = vox_id + n*4\n",
    "    \n",
    "    print(data[start_id:vox_id])\n",
    "    #seperate header from voxel\n",
    "    size_header = data[start_id:xyz_id]\n",
    "    xyzi_header = data[xyz_id:vox_id]\n",
    "    voxel = [[data[vox_id+i*4], data[vox_id+1+i*4], data[vox_id+2+i*4], data[vox_id+3+i*4]] for i in range(0, n)]\n",
    "    \n",
    "    ##manipulate voxel\n",
    "    cluster = manipulateVoxel(voxel)\n",
    "    \n",
    "    #result = \n",
    "   \n",
    "    \n",
    "    return size_header + xyzi_header + toBytearray(voxel), end_id"
   ]
  },
  {
   "cell_type": "code",
   "execution_count": 20,
   "metadata": {},
   "outputs": [
    {
     "name": "stdout",
     "output_type": "stream",
     "text": [
      "b'SIZE\\x0c\\x00\\x00\\x00\\x00\\x00\\x00\\x00\\x03\\x00\\x00\\x00\\x03\\x00\\x00\\x00\\x03\\x00\\x00\\x00XYZIT\\x00\\x00\\x00\\x00\\x00\\x00\\x00\\x14\\x00\\x00\\x00'\n",
      "done\n"
     ]
    }
   ],
   "source": [
    "# Read the whole file at once\n",
    "data = load(\"3x3x3.vox\")\n",
    "model_ids = findKeyword(data, 'SIZE') \n",
    "\n",
    "header = data[:model_ids[0]]\n",
    "\n",
    "model_bytes = bytearray()\n",
    "end_id=0\n",
    "for i in model_ids:\n",
    "    bytes_out, end_id = workOnModel(data, i)\n",
    "    model_bytes += bytes_out\n",
    "\n",
    "#seperate header and tail, read number of voxels n\n",
    "tail = data[end_id:]\n",
    "    \n",
    "#calculate endresult\n",
    "result = header+model_bytes+tail;\n",
    "    \n",
    "save(\"resultColor.vox\")\n",
    "print('done')"
   ]
  },
  {
   "cell_type": "code",
   "execution_count": null,
   "metadata": {},
   "outputs": [],
   "source": []
  }
 ],
 "metadata": {
  "kernelspec": {
   "display_name": "Python 3",
   "language": "python",
   "name": "python3"
  },
  "language_info": {
   "codemirror_mode": {
    "name": "ipython",
    "version": 3
   },
   "file_extension": ".py",
   "mimetype": "text/x-python",
   "name": "python",
   "nbconvert_exporter": "python",
   "pygments_lexer": "ipython3",
   "version": "3.6.4"
  }
 },
 "nbformat": 4,
 "nbformat_minor": 2
}
